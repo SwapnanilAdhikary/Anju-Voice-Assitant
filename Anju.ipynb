{
 "cells": [
  {
   "cell_type": "code",
   "execution_count": 1,
   "id": "a88aff93-2aab-42a2-9a92-1925e498e7da",
   "metadata": {},
   "outputs": [],
   "source": [
    "import pyttsx3  #AI communicator\n",
    "import datetime  \n",
    "import speech_recognition as sr ##getting voice input\n",
    "import wikipedia  ## wikipedia on the go\n",
    "import os ## for opening local files \n",
    "import webbrowser ##for surfing the internet\n",
    "#!pip install pyaudio\n",
    "import pyaudio"
   ]
  },
  {
   "cell_type": "code",
   "execution_count": 2,
   "id": "cad5b747-349e-4083-8c38-b863145b874b",
   "metadata": {},
   "outputs": [],
   "source": [
    "##importing voices\n",
    "engine = pyttsx3.init('sapi5')\n",
    "voices = engine.getProperty('voices')\n",
    "engine.setProperty('voice',voices[1].id)"
   ]
  },
  {
   "cell_type": "code",
   "execution_count": 3,
   "id": "199cb041-15e6-4c9e-996f-39e1d4fc2071",
   "metadata": {},
   "outputs": [],
   "source": [
    "def speak(audio):\n",
    "    engine.say(audio)\n",
    "    engine.runAndWait()\n",
    "def greet():\n",
    "    hour = int(datetime.datetime.now().hour)\n",
    "    if hour>=0 and hour<12:\n",
    "        speak(\"Good morning swapnanil\")\n",
    "    elif hour>=12 and hour <18:\n",
    "        speak(\"its a hot after noon right?\")\n",
    "    else:\n",
    "        speak(\"the heat will stay here for a while right?\")\n",
    "        speak(\"hi there swapnanil , its been a while since i saw you here how you doing\")"
   ]
  },
  {
   "cell_type": "code",
   "execution_count": 4,
   "id": "82287b3d-874d-45da-a6be-22ac1d3e8430",
   "metadata": {},
   "outputs": [],
   "source": [
    "##greet()"
   ]
  },
  {
   "cell_type": "code",
   "execution_count": 5,
   "id": "37e46dce-ca76-4fef-8725-40eda01db76b",
   "metadata": {},
   "outputs": [],
   "source": [
    "def command():\n",
    "    \n",
    "\n",
    "    r = sr.Recognizer()\n",
    "    with sr.Microphone() as source:\n",
    "        print(\"Listening...\")\n",
    "        r.pause_threshold = 1.2\n",
    "        audio = r.listen(source)\n",
    "\n",
    "    try:\n",
    "        print(\"Recognizing...\")    \n",
    "        query = r.recognize_google(audio, language='en-in')  ##speech to text\n",
    "        print(f\"You said: {query}\\n\")\n",
    "\n",
    "    except Exception as e:\n",
    "          \n",
    "        print(\"I could not get you, please speak again\")  \n",
    "        return \"None\"\n",
    "    return query"
   ]
  },
  {
   "cell_type": "code",
   "execution_count": 6,
   "id": "d0b593b8-837c-491b-b6c9-71eb10b52848",
   "metadata": {},
   "outputs": [
    {
     "name": "stdout",
     "output_type": "stream",
     "text": [
      "Listening...\n",
      "Recognizing...\n",
      "You said: what is the time\n",
      "\n"
     ]
    }
   ],
   "source": [
    "if __name__ == \"__main__\":\n",
    "    greet()\n",
    "    #while True:\n",
    "    if 1:\n",
    "        query = command().lower()\n",
    "\n",
    "        # Logic for executing tasks based on query\n",
    "        if 'wikipedia' in query:\n",
    "            speak('Searching Wikipedia...')\n",
    "            query = query.replace(\"wikipedia\", \"\")\n",
    "            results = wikipedia.summary(f'{query}', sentences=2)\n",
    "            speak(\"According to Wikipedia\")\n",
    "            print(results)\n",
    "            speak(results)\n",
    "\n",
    "        elif 'open instagram' in query:\n",
    "            webbrowser.open(\"instagram.com\")\n",
    "        \n",
    "        elif 'open youtube' in query:\n",
    "            webbrowser.open(\"youtube.com\")\n",
    "\n",
    "        elif 'open google' in query:\n",
    "            webbrowser.open(\"google.com\")\n",
    "\n",
    "        elif 'open kaggle' in query:\n",
    "            webbrowser.open(\"kaggle.com\") \n",
    "            \n",
    "        \n",
    "        elif 'the weather'in query:\n",
    "            webbrowser.open(\"weather.com\")   \n",
    "\n",
    "        elif 'the score' in query:\n",
    "            webbrowser.open(\"cricbuzz.com\") \n",
    "\n",
    "\n",
    "        # elif 'play music' in query:\n",
    "        #     music_dir = 'Urban Sound\\\\fold2'\n",
    "        #     songs = os.listdir(music_dir)\n",
    "        #     print(songs)    \n",
    "        #     os.startfile(os.path.join(music_dir, songs[0]))\n",
    "\n",
    "        elif 'the time' in query:\n",
    "            strTime = datetime.datetime.now().strftime(\"%H:%M:%S\")    \n",
    "            speak(f\"Sir, the time is {strTime}\")\n",
    "\n",
    "       "
   ]
  },
  {
   "cell_type": "code",
   "execution_count": null,
   "id": "5b5146ad-a4dc-4f26-841d-29c951d1f657",
   "metadata": {},
   "outputs": [],
   "source": []
  }
 ],
 "metadata": {
  "kernelspec": {
   "display_name": "Python 3 (ipykernel)",
   "language": "python",
   "name": "python3"
  },
  "language_info": {
   "codemirror_mode": {
    "name": "ipython",
    "version": 3
   },
   "file_extension": ".py",
   "mimetype": "text/x-python",
   "name": "python",
   "nbconvert_exporter": "python",
   "pygments_lexer": "ipython3",
   "version": "3.12.2"
  }
 },
 "nbformat": 4,
 "nbformat_minor": 5
}
